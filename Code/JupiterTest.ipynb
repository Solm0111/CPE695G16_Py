{
 "cells": [
  {
   "cell_type": "code",
   "execution_count": 111,
   "metadata": {},
   "outputs": [
    {
     "name": "stdout",
     "output_type": "stream",
     "text": [
      "        name    mask  weapon\n",
      "0    Raphael     red      17\n",
      "1  Donatello  purple      88\n",
      "2    Raphael     red      44\n",
      "3    Raphael   green      22\n",
      "4       Nokk    blue       9\n",
      "5    Raphael     red      31\n"
     ]
    }
   ],
   "source": [
    "import pandas as pd\n",
    "\n",
    "df1 = pd.DataFrame({'name': ['Raphael', 'Donatello', 'Raphael', 'Raphael', 'Nokk', 'Raphael'],\n",
    "                    'mask': ['red', 'purple', 'red', 'green', 'blue', 'red'], \n",
    "                    'weapon': [17, 88, 44, 22, 9, 31]})\n",
    "\n",
    "print(df1)"
   ]
  },
  {
   "cell_type": "code",
   "execution_count": 112,
   "metadata": {},
   "outputs": [
    {
     "name": "stdout",
     "output_type": "stream",
     "text": [
      "mask    name     \n",
      "blue    Nokk         1\n",
      "green   Raphael      1\n",
      "purple  Donatello    1\n",
      "red     Raphael      3\n",
      "dtype: int64\n"
     ]
    }
   ],
   "source": [
    "hh = df1.groupby(['mask','name']).size()\n",
    "print(hh)"
   ]
  },
  {
   "cell_type": "code",
   "execution_count": 113,
   "metadata": {},
   "outputs": [
    {
     "name": "stdout",
     "output_type": "stream",
     "text": [
      "{'a': 't'}\n"
     ]
    }
   ],
   "source": [
    "adict = {\"a\": '[1, 2]', 'a': 't'}\n",
    "print(adict)"
   ]
  },
  {
   "cell_type": "code",
   "execution_count": 114,
   "metadata": {},
   "outputs": [
    {
     "name": "stdout",
     "output_type": "stream",
     "text": [
      "fsfas\n"
     ]
    }
   ],
   "source": [
    "if (('a', 't') in adict.items()) == True:\n",
    "    print('fsfas')"
   ]
  },
  {
   "cell_type": "code",
   "execution_count": 115,
   "metadata": {},
   "outputs": [
    {
     "name": "stdout",
     "output_type": "stream",
     "text": [
      "      name mask  weapon\n",
      "0  Raphael  red      17\n",
      "2  Raphael  red      44\n",
      "5  Raphael  red      31\n"
     ]
    }
   ],
   "source": [
    "dupe = df1[df1.duplicated(['name', 'mask'],keep=False)]\n",
    "print(dupe)"
   ]
  },
  {
   "cell_type": "code",
   "execution_count": 125,
   "metadata": {},
   "outputs": [
    {
     "name": "stdout",
     "output_type": "stream",
     "text": [
      "mask    name     \n",
      "blue    Nokk                  [9]\n",
      "green   Raphael              [22]\n",
      "purple  Donatello            [88]\n",
      "red     Raphael      [17, 44, 31]\n",
      "Name: weapon, dtype: object\n",
      "[22]\n",
      "<class 'pandas.core.frame.DataFrame'>\n",
      "     mask       name        weapon\n",
      "0    blue       Nokk           [9]\n",
      "1   green    Raphael          [22]\n",
      "2  purple  Donatello          [88]\n",
      "3     red    Raphael  [17, 44, 31]\n"
     ]
    }
   ],
   "source": [
    "gg = df1.groupby(['mask','name'])['weapon'].apply(list)\n",
    "print(gg)\n",
    "print(gg[1])\n",
    "\n",
    "hhh = gg.reset_index()\n",
    "print(type(hhh))\n",
    "print(hhh)"
   ]
  },
  {
   "cell_type": "code",
   "execution_count": 126,
   "metadata": {},
   "outputs": [
    {
     "name": "stdout",
     "output_type": "stream",
     "text": [
      "[9]\n"
     ]
    }
   ],
   "source": [
    "er = hhh.loc[0,'weapon']\n",
    "print(er)"
   ]
  },
  {
   "cell_type": "code",
   "execution_count": 127,
   "metadata": {},
   "outputs": [
    {
     "name": "stdout",
     "output_type": "stream",
     "text": [
      "     mask       name        weapon  count  >20  >50\n",
      "0    blue       Nokk           [9]      0    0    0\n",
      "1   green    Raphael          [22]      0    0    0\n",
      "2  purple  Donatello          [88]      0    0    0\n",
      "3     red    Raphael  [17, 44, 31]      0    0    0\n"
     ]
    }
   ],
   "source": [
    "hhh.insert(3,'count',0)\n",
    "hhh.insert(4,'>20',0)\n",
    "hhh.insert(5,'>50',0)\n",
    "print(hhh)"
   ]
  },
  {
   "cell_type": "code",
   "execution_count": 119,
   "metadata": {},
   "outputs": [
    {
     "name": "stdout",
     "output_type": "stream",
     "text": [
      "     mask       name        weapon  count  >20  >50\n",
      "0    blue       Nokk           [9]      1    0    0\n",
      "1   green    Raphael          [22]      1    1    0\n",
      "2  purple  Donatello          [88]      1    1    1\n",
      "3     red    Raphael  [17, 44, 31]      3    2    0\n"
     ]
    }
   ],
   "source": [
    "temp = list()\n",
    "above20 = 0\n",
    "above50 = 0\n",
    "for index, row in hhh.iterrows():\n",
    "    temp = row['weapon']\n",
    "    for i in temp:\n",
    "        if i>50:\n",
    "            above50 = above50 + 1\n",
    "            above20 = above20 + 1\n",
    "        elif i>20:\n",
    "            above20 = above20 + 1\n",
    "    hhh.at[index,'count'] = len(temp)\n",
    "    hhh.at[index,'>20'] = above20\n",
    "    hhh.at[index,'>50'] = above50\n",
    "    above20 = 0\n",
    "    above50 = 0\n",
    "print(hhh)"
   ]
  },
  {
   "cell_type": "code",
   "execution_count": 128,
   "metadata": {},
   "outputs": [
    {
     "name": "stdout",
     "output_type": "stream",
     "text": [
      "     mask  last_name        weapon  count  >20  >50\n",
      "0    blue       Nokk           [9]      0    0    0\n",
      "1   green    Raphael          [22]      0    0    0\n",
      "2  purple  Donatello          [88]      0    0    0\n",
      "3     red    Raphael  [17, 44, 31]      0    0    0\n"
     ]
    }
   ],
   "source": [
    "hhh.rename(columns = {'name' : 'last_name'}, inplace = True)\n",
    "print(hhh)"
   ]
  },
  {
   "cell_type": "code",
   "execution_count": null,
   "metadata": {},
   "outputs": [],
   "source": []
  }
 ],
 "metadata": {
  "kernelspec": {
   "display_name": "Python 3",
   "language": "python",
   "name": "python3"
  },
  "language_info": {
   "codemirror_mode": {
    "name": "ipython",
    "version": 3
   },
   "file_extension": ".py",
   "mimetype": "text/x-python",
   "name": "python",
   "nbconvert_exporter": "python",
   "pygments_lexer": "ipython3",
   "version": "3.8.5"
  }
 },
 "nbformat": 4,
 "nbformat_minor": 4
}
